{
 "cells": [
  {
   "cell_type": "code",
   "execution_count": 62,
   "id": "6e805336-7f2b-470f-ba9d-82f3f90384f2",
   "metadata": {},
   "outputs": [
    {
     "name": "stderr",
     "output_type": "stream",
     "text": [
      "[nltk_data] Downloading package stopwords to\n",
      "[nltk_data]     /home/guilhem/nltk_data...\n",
      "[nltk_data]   Package stopwords is already up-to-date!\n"
     ]
    },
    {
     "data": {
      "text/plain": [
       "True"
      ]
     },
     "execution_count": 62,
     "metadata": {},
     "output_type": "execute_result"
    }
   ],
   "source": [
    "# Import des bibliothèques nécessaires\n",
    "import nltk  # Bibliothèque pour le traitement du langage naturel\n",
    "import numpy as np\n",
    "import scipy  # Bibliothèque scientifique pour Python\n",
    "import sklearn  # Bibliothèque de machine learning\n",
    "import matplotlib.pyplot as plt\n",
    "\n",
    "from sklearn.model_selection import train_test_split\n",
    "from sklearn.feature_extraction.text import CountVectorizer, TfidfVectorizer\n",
    "from sklearn.naive_bayes import MultinomialNB\n",
    "from sklearn.metrics import accuracy_score, confusion_matrix\n",
    "from sklearn.metrics import confusion_matrix\n",
    "from sklearn.metrics import ConfusionMatrixDisplay\n",
    "\n",
    "from nltk.corpus import stopwords\n",
    "from model1 import Article, Corpus, load_json\n",
    "\n",
    "# Téléchargez la liste de mots d'arrêt en français si ce n'est pas déjà fait\n",
    "nltk.download('stopwords')"
   ]
  },
  {
   "cell_type": "code",
   "execution_count": 63,
   "id": "a197ecd3-4bb5-45b1-a227-ff1b20d6586f",
   "metadata": {},
   "outputs": [
    {
     "name": "stdout",
     "output_type": "stream",
     "text": [
      "Dataset({\n",
      "    features: ['id', 'url', 'author', 'date', 'rating', 'title', 'resume', 'content', 'category'],\n",
      "    num_rows: 397\n",
      "})\n",
      "Dataset({\n",
      "    features: ['id', 'url', 'author', 'date', 'rating', 'title', 'resume', 'content', 'category'],\n",
      "    num_rows: 44\n",
      "})\n"
     ]
    }
   ],
   "source": [
    "# Charger les données JSON en Objet DATASET\n",
    "train_corpus = load_json(\"../Corpus/train.json\")\n",
    "print(train)\n",
    "\n",
    "test_corpus = load_json(\"../Corpus/test.json\")\n",
    "print(test)"
   ]
  },
  {
   "cell_type": "code",
   "execution_count": 64,
   "id": "74c0b142",
   "metadata": {},
   "outputs": [],
   "source": [
    "# Extraire les caractéristiques\n",
    "# Liste de stopwords en français\n",
    "french_stop_words = stopwords.words('french')\n",
    "#count_vectorizer = CountVectorizer(stop_words=french_stop_words)\n",
    "tfidf_vectorizer = TfidfVectorizer(stop_words=french_stop_words, max_df=0.7)\n",
    "\n",
    "# On recupère le contenu textuel de chaque set\n",
    "train_txt = train_corpus['content']\n",
    "test_txt = test_corpus['content']\n",
    "\n",
    "# On vectorise avec count_vectorizer\n",
    "#X_train_count = count_vectorizer.fit_transform(train_txt)\n",
    "#X_test_count = count_vectorizer.transform(train_txt)\n",
    "\n",
    "# On vectorise avec tfidf_vectorizer\n",
    "X_train_tfidf = tfidf_vectorizer.fit_transform(train_txt)\n",
    "X_test_tfidf = tfidf_vectorizer.transform(test_txt)\n",
    "\n",
    "# On recupère le label \"rating\" de chaque set\n",
    "y_train = train_corpus['rating']\n",
    "y_test = test_corpus['rating']"
   ]
  },
  {
   "cell_type": "code",
   "execution_count": 65,
   "id": "4f45b206",
   "metadata": {},
   "outputs": [
    {
     "name": "stdout",
     "output_type": "stream",
     "text": [
      "0.7272727272727273\n",
      "predictions: ['Faux' 'Faux' 'Faux' 'Faux' 'Faux' 'Faux' 'Faux' 'Faux' 'Faux' 'Faux'\n",
      " 'Faux' 'Faux' 'Faux' 'Faux' 'Faux' 'Faux' 'Faux' 'Faux' 'Faux' 'Faux'\n",
      " 'Faux' 'Faux' 'Faux' 'Faux' 'Faux' 'Faux' 'Faux' 'Faux' 'Faux' 'Faux'\n",
      " 'Faux' 'Faux' 'Faux' 'Faux' 'Faux' 'Faux' 'Faux' 'Faux' 'Faux' 'Faux'\n",
      " 'Faux' 'Faux' 'Faux' 'Faux']\n",
      "vraies classes: ['Faux', 'Faux', 'Du vrai / du faux', 'Du vrai / du faux', 'Faux', 'Faux', 'Faux', 'Du vrai / du faux', 'Faux', 'Faux', 'Faux', 'Faux', 'Vrai', 'Faux', 'Faux', 'Du vrai / du faux', 'Faux', 'Faux', 'Faux', 'Faux', 'Faux', 'Faux', 'Faux', 'Vrai', 'Faux', 'Faux', 'Faux', 'Faux', 'Vrai', 'Faux', 'Du vrai / du faux', 'Vrai', 'Faux', 'Faux', 'Analyse en cours', 'Faux', 'Du vrai / du faux', 'Faux', 'Du vrai / du faux', 'Faux', 'Faux', 'Faux', 'Faux', 'Faux']\n"
     ]
    }
   ],
   "source": [
    "\n",
    "# Entraîner le modèle Naive Bayes sur les caractéristiques TF-IDF\n",
    "clf = MultinomialNB().fit(X_train_tfidf, y_train)\n",
    "\n",
    "#Score\n",
    "print(clf.score(X_test_tfidf, y_test))\n",
    "\n",
    "#Predict\n",
    "print(\"predictions:\", clf.predict(X_test_tfidf))\n",
    "\n",
    "#Donnee\n",
    "print(\"vraies classes:\",y_test)\n",
    "\n",
    "pred = clf.predict(X_test_tfidf)"
   ]
  },
  {
   "cell_type": "code",
   "execution_count": 66,
   "id": "174e0423",
   "metadata": {},
   "outputs": [
    {
     "data": {
      "text/plain": [
       "<sklearn.metrics._plot.confusion_matrix.ConfusionMatrixDisplay at 0x7654db227c40>"
      ]
     },
     "execution_count": 66,
     "metadata": {},
     "output_type": "execute_result"
    },
    {
     "data": {
      "image/png": "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",
      "text/plain": [
       "<Figure size 640x480 with 2 Axes>"
      ]
     },
     "metadata": {},
     "output_type": "display_data"
    }
   ],
   "source": [
    "# Visualisation des résultats\n",
    "cm = confusion_matrix(y_test, pred, labels=clf.classes_)\n",
    "ConfusionMatrixDisplay(cm, display_labels=clf.classes_).plot()\n"
   ]
  }
 ],
 "metadata": {
  "kernelspec": {
   "display_name": "Python 3 (ipykernel)",
   "language": "python",
   "name": "python3"
  },
  "language_info": {
   "codemirror_mode": {
    "name": "ipython",
    "version": 3
   },
   "file_extension": ".py",
   "mimetype": "text/x-python",
   "name": "python",
   "nbconvert_exporter": "python",
   "pygments_lexer": "ipython3",
<<<<<<< HEAD
   "version": "3.9.18"
=======
   "version": "3.11.6"
>>>>>>> Guilhem
  }
 },
 "nbformat": 4,
 "nbformat_minor": 5
}
