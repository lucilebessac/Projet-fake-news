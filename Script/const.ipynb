{
 "cells": [
  {
   "cell_type": "code",
   "execution_count": 2,
   "id": "6e805336-7f2b-470f-ba9d-82f3f90384f2",
   "metadata": {},
   "outputs": [
    {
     "name": "stderr",
     "output_type": "stream",
     "text": [
      "[nltk_data] Downloading package stopwords to /home/coco97/nltk_data...\n",
      "[nltk_data]   Package stopwords is already up-to-date!\n"
     ]
    },
    {
     "name": "stdout",
     "output_type": "stream",
     "text": [
      "Accuracy: 0.7752808988764045\n",
      "Confusion Matrix:\n",
      " [[ 0  0  3  0]\n",
      " [ 0  0  9  0]\n",
      " [ 0  0 69  0]\n",
      " [ 0  0  8  0]]\n"
     ]
    },
    {
     "data": {
      "image/png": "[encoded data removed]",
      "text/plain": [
       "<Figure size 640x480 with 2 Axes>"
      ]
     },
     "metadata": {},
     "output_type": "display_data"
    }
   ],
   "source": [
    "# Import des bibliothèques nécessaires\n",
    "import json\n",
    "import pandas as pd\n",
    "from sklearn.model_selection import train_test_split\n",
    "from sklearn.feature_extraction.text import CountVectorizer, TfidfVectorizer\n",
    "from sklearn.naive_bayes import MultinomialNB\n",
    "from sklearn.metrics import accuracy_score, confusion_matrix\n",
    "import nltk  # Bibliothèque pour le traitement du langage naturel\n",
    "import numpy as np\n",
    "import scipy  # Bibliothèque scientifique pour Python\n",
    "import sklearn  # Bibliothèque de machine learning\n",
    "from nltk.corpus import stopwords\n",
    "import matplotlib.pyplot as plt\n",
    "\n",
    "\n",
    "# Téléchargez la liste de mots d'arrêt en français si ce n'est pas déjà fait\n",
    "nltk.download('stopwords')\n",
    "\n",
    "\n",
    "# Charger les données JSON\n",
    "with open('../Data/data.json', 'r', encoding='utf-8') as f:\n",
    "    data = json.load(f)\n",
    "\n",
    "# Convertir les données JSON en DataFrame pandas\n",
    "df = pd.DataFrame(data['items'])\n",
    "\n",
    "# Diviser les données en ensembles d'entraînement et de test\n",
    "train_data, test_data= train_test_split(df, test_size=0.2, random_state=42)\n",
    "\n",
    "# Extraire les caractéristiques\n",
    "# liste de stopwords en français\n",
    "french_stop_words = stopwords.words('french')\n",
    "count_vectorizer = CountVectorizer(stop_words=french_stop_words)\n",
    "tfidf_vectorizer = TfidfVectorizer(stop_words=french_stop_words, max_df=0.7)\n",
    "\n",
    "X_train_count = count_vectorizer.fit_transform(train_data['content'])\n",
    "X_test_count = count_vectorizer.transform(test_data['content'])\n",
    "\n",
    "X_train_tfidf = tfidf_vectorizer.fit_transform(train_data['content'])\n",
    "X_test_tfidf = tfidf_vectorizer.transform(test_data['content'])\n",
    "\n",
    "# Définir les étiquettes\n",
    "y_train = train_data['rating']\n",
    "y_test = test_data['rating']\n",
    "\n",
    "# Entraîner le modèle Naive Bayes\n",
    "nb_classifier = MultinomialNB()\n",
    "\n",
    "# Entraîner le modèle sur les caractéristiques TF-IDF\n",
    "nb_classifier.fit(X_train_tfidf, y_train)\n",
    "\n",
    "# Prédiction sur les données de test\n",
    "y_pred = nb_classifier.predict(X_test_tfidf)\n",
    "\n",
    "# Évaluer le modèle\n",
    "accuracy = accuracy_score(y_test, y_pred)\n",
    "conf_matrix = confusion_matrix(y_test, y_pred)\n",
    "\n",
    "print(\"Accuracy:\", accuracy)\n",
    "print(\"Confusion Matrix:\\n\", conf_matrix)\n",
    "\n",
    "# Convertir la matrice sparse en matrice dense\n",
    "dense_matrix = X_train_count.toarray()\n",
    "\n",
    "# Créer une figure et un axe\n",
    "fig, ax = plt.subplots()\n",
    "\n",
    "# Utiliser la fonction imshow pour afficher l'image de la matrice\n",
    "cax = ax.imshow(dense_matrix, interpolation='nearest', cmap=plt.cm.coolwarm)\n",
    "\n",
    "# Ajouter une barre de couleur pour indiquer l'échelle\n",
    "fig.colorbar(cax)\n",
    "\n",
    "# Afficher l'image\n",
    "plt.show()"
   ]
  },
  {
   "cell_type": "code",
   "execution_count": null,
   "id": "a197ecd3-4bb5-45b1-a227-ff1b20d6586f",
   "metadata": {},
   "outputs": [],
   "source": []
  }
 ],
 "metadata": {
  "kernelspec": {
   "display_name": "Python 3 (ipykernel)",
   "language": "python",
   "name": "python3"
  },
  "language_info": {
   "codemirror_mode": {
    "name": "ipython",
    "version": 3
   },
   "file_extension": ".py",
   "mimetype": "text/x-python",
   "name": "python",
   "nbconvert_exporter": "python",
   "pygments_lexer": "ipython3",
   "version": "3.10.12"
  }
 },
 "nbformat": 4,
 "nbformat_minor": 5
}
